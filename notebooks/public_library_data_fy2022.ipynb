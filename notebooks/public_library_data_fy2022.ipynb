{
 "cells": [
  {
   "cell_type": "markdown",
   "id": "6e06b56d",
   "metadata": {},
   "source": [
    "# 🧼📊 Clean + Explore: IMLS Public Library Survey (FY 2022)\n",
    "\n",
    "This notebook loads the raw FY 2022 IMLS dataset, cleans it, and explores trends in U.S. public library usage.\n",
    "\n",
    "> ⚠️ **Note for Colab users**: First upload the raw file `PLS_FY22_AE_pud22i.csv` using the file upload button on the left sidebar.\n"
   ]
  },
  {
   "cell_type": "code",
   "execution_count": null,
   "id": "c9e8162f",
   "metadata": {},
   "outputs": [],
   "source": [
    "# 📦 Install if running in Colab\n",
    "# %pip install pandas matplotlib seaborn\n",
    "\n",
    "import pandas as pd\n",
    "import matplotlib.pyplot as plt\n",
    "import seaborn as sns\n"
   ]
  },
  {
   "cell_type": "code",
   "execution_count": null,
   "id": "4dce0e4d",
   "metadata": {},
   "outputs": [],
   "source": [
    "# 📂 Load the raw data (uploaded in root directory for Colab users)\n",
    "df_raw = pd.read_csv(\"PLS_FY22_AE_pud22i.csv\", encoding=\"ISO-8859-1\")\n",
    "df_raw.head()\n"
   ]
  },
  {
   "cell_type": "markdown",
   "id": "888dd0da",
   "metadata": {},
   "source": [
    "## 🔧 Step 1: Clean and Prepare Key Fields"
   ]
  },
  {
   "cell_type": "code",
   "execution_count": null,
   "id": "5aed807d",
   "metadata": {},
   "outputs": [],
   "source": [
    "df = df_raw.rename(columns={\n",
    "    \"LIBNAME\": \"Library Name\",\n",
    "    \"STABR\": \"State\",\n",
    "    \"VISITS\": \"Visits\",\n",
    "    \"TOTPRO\": \"Total Programs\",\n",
    "    \"TOTCIR\": \"Circulation\"\n",
    "})[[\"Library Name\", \"State\", \"Visits\", \"Total Programs\", \"Circulation\"]]\n",
    "\n",
    "# Replace special negative values with NaN\n",
    "df = df.replace({-1: None, -3: None, -4: None, -9: None})\n",
    "\n",
    "# Drop rows where all key metrics are missing\n",
    "df = df.dropna(subset=[\"Visits\", \"Total Programs\", \"Circulation\"], how=\"all\")\n",
    "df.head()\n"
   ]
  },
  {
   "cell_type": "code",
   "execution_count": null,
   "id": "18cd92f1",
   "metadata": {},
   "outputs": [],
   "source": [
    "df.isnull().sum()"
   ]
  },
  {
   "cell_type": "code",
   "execution_count": null,
   "id": "337adab2",
   "metadata": {},
   "outputs": [],
   "source": [
    "plt.figure(figsize=(10, 5))\n",
    "df['Visits'].dropna().hist(bins=50)\n",
    "plt.title(\"Distribution of Library Visits (FY 2022)\")\n",
    "plt.xlabel(\"Visits\")\n",
    "plt.ylabel(\"Number of Libraries\")\n",
    "plt.grid(True)\n",
    "plt.show()\n"
   ]
  },
  {
   "cell_type": "code",
   "execution_count": null,
   "id": "7df2ee9d",
   "metadata": {},
   "outputs": [],
   "source": [
    "top10 = df[['Library Name', 'Total Programs']].sort_values(by='Total Programs', ascending=False).head(10)\n",
    "top10.reset_index(drop=True, inplace=True)\n",
    "top10\n"
   ]
  },
  {
   "cell_type": "code",
   "execution_count": null,
   "id": "29e0dda4",
   "metadata": {},
   "outputs": [],
   "source": [
    "df.to_csv(\"imls_pls_2022_cleaned.csv\", index=False)\n",
    "print(\"✅ Cleaned file saved as: imls_pls_2022_cleaned.csv\")\n"
   ]
  }
 ],
 "metadata": {},
 "nbformat": 4,
 "nbformat_minor": 5
}
